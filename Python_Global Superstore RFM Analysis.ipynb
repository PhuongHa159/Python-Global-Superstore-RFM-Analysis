{
  "nbformat": 4,
  "nbformat_minor": 0,
  "metadata": {
    "colab": {
      "provenance": [],
      "authorship_tag": "ABX9TyP+xzp0RFPjXLPtBuchHRe/",
      "include_colab_link": true
    },
    "kernelspec": {
      "name": "python3",
      "display_name": "Python 3"
    },
    "language_info": {
      "name": "python"
    }
  },
  "cells": [
    {
      "cell_type": "markdown",
      "metadata": {
        "id": "view-in-github",
        "colab_type": "text"
      },
      "source": [
        "<a href=\"https://colab.research.google.com/github/PhuongHa159/Python-Global-Superstore-RFM-Analysis/blob/main/Python_Global%20Superstore%20RFM%20Analysis.ipynb\" target=\"_parent\"><img src=\"https://colab.research.google.com/assets/colab-badge.svg\" alt=\"Open In Colab\"/></a>"
      ]
    },
    {
      "cell_type": "code",
      "execution_count": 16,
      "metadata": {
        "colab": {
          "base_uri": "https://localhost:8080/",
          "height": 73
        },
        "id": "BDHqrZ92jPBQ",
        "outputId": "e1ff0ef8-632e-4d98-fce0-e4583cd6bae9"
      },
      "outputs": [
        {
          "output_type": "display_data",
          "data": {
            "text/plain": [
              "<IPython.core.display.HTML object>"
            ],
            "text/html": [
              "\n",
              "     <input type=\"file\" id=\"files-39a214af-1284-4421-acba-77b94df74c71\" name=\"files[]\" multiple disabled\n",
              "        style=\"border:none\" />\n",
              "     <output id=\"result-39a214af-1284-4421-acba-77b94df74c71\">\n",
              "      Upload widget is only available when the cell has been executed in the\n",
              "      current browser session. Please rerun this cell to enable.\n",
              "      </output>\n",
              "      <script>// Copyright 2017 Google LLC\n",
              "//\n",
              "// Licensed under the Apache License, Version 2.0 (the \"License\");\n",
              "// you may not use this file except in compliance with the License.\n",
              "// You may obtain a copy of the License at\n",
              "//\n",
              "//      http://www.apache.org/licenses/LICENSE-2.0\n",
              "//\n",
              "// Unless required by applicable law or agreed to in writing, software\n",
              "// distributed under the License is distributed on an \"AS IS\" BASIS,\n",
              "// WITHOUT WARRANTIES OR CONDITIONS OF ANY KIND, either express or implied.\n",
              "// See the License for the specific language governing permissions and\n",
              "// limitations under the License.\n",
              "\n",
              "/**\n",
              " * @fileoverview Helpers for google.colab Python module.\n",
              " */\n",
              "(function(scope) {\n",
              "function span(text, styleAttributes = {}) {\n",
              "  const element = document.createElement('span');\n",
              "  element.textContent = text;\n",
              "  for (const key of Object.keys(styleAttributes)) {\n",
              "    element.style[key] = styleAttributes[key];\n",
              "  }\n",
              "  return element;\n",
              "}\n",
              "\n",
              "// Max number of bytes which will be uploaded at a time.\n",
              "const MAX_PAYLOAD_SIZE = 100 * 1024;\n",
              "\n",
              "function _uploadFiles(inputId, outputId) {\n",
              "  const steps = uploadFilesStep(inputId, outputId);\n",
              "  const outputElement = document.getElementById(outputId);\n",
              "  // Cache steps on the outputElement to make it available for the next call\n",
              "  // to uploadFilesContinue from Python.\n",
              "  outputElement.steps = steps;\n",
              "\n",
              "  return _uploadFilesContinue(outputId);\n",
              "}\n",
              "\n",
              "// This is roughly an async generator (not supported in the browser yet),\n",
              "// where there are multiple asynchronous steps and the Python side is going\n",
              "// to poll for completion of each step.\n",
              "// This uses a Promise to block the python side on completion of each step,\n",
              "// then passes the result of the previous step as the input to the next step.\n",
              "function _uploadFilesContinue(outputId) {\n",
              "  const outputElement = document.getElementById(outputId);\n",
              "  const steps = outputElement.steps;\n",
              "\n",
              "  const next = steps.next(outputElement.lastPromiseValue);\n",
              "  return Promise.resolve(next.value.promise).then((value) => {\n",
              "    // Cache the last promise value to make it available to the next\n",
              "    // step of the generator.\n",
              "    outputElement.lastPromiseValue = value;\n",
              "    return next.value.response;\n",
              "  });\n",
              "}\n",
              "\n",
              "/**\n",
              " * Generator function which is called between each async step of the upload\n",
              " * process.\n",
              " * @param {string} inputId Element ID of the input file picker element.\n",
              " * @param {string} outputId Element ID of the output display.\n",
              " * @return {!Iterable<!Object>} Iterable of next steps.\n",
              " */\n",
              "function* uploadFilesStep(inputId, outputId) {\n",
              "  const inputElement = document.getElementById(inputId);\n",
              "  inputElement.disabled = false;\n",
              "\n",
              "  const outputElement = document.getElementById(outputId);\n",
              "  outputElement.innerHTML = '';\n",
              "\n",
              "  const pickedPromise = new Promise((resolve) => {\n",
              "    inputElement.addEventListener('change', (e) => {\n",
              "      resolve(e.target.files);\n",
              "    });\n",
              "  });\n",
              "\n",
              "  const cancel = document.createElement('button');\n",
              "  inputElement.parentElement.appendChild(cancel);\n",
              "  cancel.textContent = 'Cancel upload';\n",
              "  const cancelPromise = new Promise((resolve) => {\n",
              "    cancel.onclick = () => {\n",
              "      resolve(null);\n",
              "    };\n",
              "  });\n",
              "\n",
              "  // Wait for the user to pick the files.\n",
              "  const files = yield {\n",
              "    promise: Promise.race([pickedPromise, cancelPromise]),\n",
              "    response: {\n",
              "      action: 'starting',\n",
              "    }\n",
              "  };\n",
              "\n",
              "  cancel.remove();\n",
              "\n",
              "  // Disable the input element since further picks are not allowed.\n",
              "  inputElement.disabled = true;\n",
              "\n",
              "  if (!files) {\n",
              "    return {\n",
              "      response: {\n",
              "        action: 'complete',\n",
              "      }\n",
              "    };\n",
              "  }\n",
              "\n",
              "  for (const file of files) {\n",
              "    const li = document.createElement('li');\n",
              "    li.append(span(file.name, {fontWeight: 'bold'}));\n",
              "    li.append(span(\n",
              "        `(${file.type || 'n/a'}) - ${file.size} bytes, ` +\n",
              "        `last modified: ${\n",
              "            file.lastModifiedDate ? file.lastModifiedDate.toLocaleDateString() :\n",
              "                                    'n/a'} - `));\n",
              "    const percent = span('0% done');\n",
              "    li.appendChild(percent);\n",
              "\n",
              "    outputElement.appendChild(li);\n",
              "\n",
              "    const fileDataPromise = new Promise((resolve) => {\n",
              "      const reader = new FileReader();\n",
              "      reader.onload = (e) => {\n",
              "        resolve(e.target.result);\n",
              "      };\n",
              "      reader.readAsArrayBuffer(file);\n",
              "    });\n",
              "    // Wait for the data to be ready.\n",
              "    let fileData = yield {\n",
              "      promise: fileDataPromise,\n",
              "      response: {\n",
              "        action: 'continue',\n",
              "      }\n",
              "    };\n",
              "\n",
              "    // Use a chunked sending to avoid message size limits. See b/62115660.\n",
              "    let position = 0;\n",
              "    do {\n",
              "      const length = Math.min(fileData.byteLength - position, MAX_PAYLOAD_SIZE);\n",
              "      const chunk = new Uint8Array(fileData, position, length);\n",
              "      position += length;\n",
              "\n",
              "      const base64 = btoa(String.fromCharCode.apply(null, chunk));\n",
              "      yield {\n",
              "        response: {\n",
              "          action: 'append',\n",
              "          file: file.name,\n",
              "          data: base64,\n",
              "        },\n",
              "      };\n",
              "\n",
              "      let percentDone = fileData.byteLength === 0 ?\n",
              "          100 :\n",
              "          Math.round((position / fileData.byteLength) * 100);\n",
              "      percent.textContent = `${percentDone}% done`;\n",
              "\n",
              "    } while (position < fileData.byteLength);\n",
              "  }\n",
              "\n",
              "  // All done.\n",
              "  yield {\n",
              "    response: {\n",
              "      action: 'complete',\n",
              "    }\n",
              "  };\n",
              "}\n",
              "\n",
              "scope.google = scope.google || {};\n",
              "scope.google.colab = scope.google.colab || {};\n",
              "scope.google.colab._files = {\n",
              "  _uploadFiles,\n",
              "  _uploadFilesContinue,\n",
              "};\n",
              "})(self);\n",
              "</script> "
            ]
          },
          "metadata": {}
        },
        {
          "output_type": "stream",
          "name": "stdout",
          "text": [
            "Saving ecommerce retail.xlsx to ecommerce retail (1).xlsx\n"
          ]
        }
      ],
      "source": [
        "from google.colab import files\n",
        "uploaded = files.upload()"
      ]
    },
    {
      "cell_type": "code",
      "source": [
        "import pandas as pd\n",
        "import seaborn as sns\n",
        "import matplotlib.pyplot as plt\n",
        "df=pd.read_excel('ecommerce retail.xlsx')"
      ],
      "metadata": {
        "id": "qmXwVZcYlrmB"
      },
      "execution_count": 17,
      "outputs": []
    },
    {
      "cell_type": "code",
      "source": [
        "df_raw = pd.DataFrame(df)\n",
        "print(df_raw.info())\n",
        "print(df_raw.describe())\n",
        "# drop missing value in \"CustomerID\" by delete rows\n",
        "df_raw= df_raw.dropna(subset=[\"CustomerID\"])\n",
        "# drop missing value in \"Description\" by delete columns\n",
        "df_raw=df_raw.drop('Description',axis=1)\n",
        "# Change datatype of UnitPrice\n",
        "df_raw[\"UnitPrice\"]=df_raw[\"UnitPrice\"].astype(int)\n",
        "# Change datatype of CustomerID\n",
        "df_raw[\"CustomerID\"]=df_raw[\"CustomerID\"].astype(str)\n",
        "# Handle outlier of Quantity and UnitPrice\n",
        "df_raw=df_raw[(df_raw['Quantity'] > 0)]\n",
        "df_raw=df_raw[(df_raw['UnitPrice'] > 0)]\n",
        "print(df_raw.info())\n",
        "print(df_raw.describe())\n",
        "print(df_raw.head())"
      ],
      "metadata": {
        "colab": {
          "base_uri": "https://localhost:8080/"
        },
        "id": "QZNnvS35xkgQ",
        "outputId": "4bad9152-65ee-4fb5-a033-d89ea7bf4d40"
      },
      "execution_count": 18,
      "outputs": [
        {
          "output_type": "stream",
          "name": "stdout",
          "text": [
            "<class 'pandas.core.frame.DataFrame'>\n",
            "RangeIndex: 541909 entries, 0 to 541908\n",
            "Data columns (total 8 columns):\n",
            " #   Column       Non-Null Count   Dtype         \n",
            "---  ------       --------------   -----         \n",
            " 0   InvoiceNo    541909 non-null  object        \n",
            " 1   StockCode    541909 non-null  object        \n",
            " 2   Description  540455 non-null  object        \n",
            " 3   Quantity     541909 non-null  int64         \n",
            " 4   InvoiceDate  541909 non-null  datetime64[ns]\n",
            " 5   UnitPrice    541909 non-null  float64       \n",
            " 6   CustomerID   406829 non-null  float64       \n",
            " 7   Country      541909 non-null  object        \n",
            "dtypes: datetime64[ns](1), float64(2), int64(1), object(4)\n",
            "memory usage: 33.1+ MB\n",
            "None\n",
            "            Quantity                    InvoiceDate      UnitPrice  \\\n",
            "count  541909.000000                         541909  541909.000000   \n",
            "mean        9.552250  2011-07-04 13:34:57.156386048       4.611114   \n",
            "min    -80995.000000            2010-12-01 08:26:00  -11062.060000   \n",
            "25%         1.000000            2011-03-28 11:34:00       1.250000   \n",
            "50%         3.000000            2011-07-19 17:17:00       2.080000   \n",
            "75%        10.000000            2011-10-19 11:27:00       4.130000   \n",
            "max     80995.000000            2011-12-09 12:50:00   38970.000000   \n",
            "std       218.081158                            NaN      96.759853   \n",
            "\n",
            "          CustomerID  \n",
            "count  406829.000000  \n",
            "mean    15287.690570  \n",
            "min     12346.000000  \n",
            "25%     13953.000000  \n",
            "50%     15152.000000  \n",
            "75%     16791.000000  \n",
            "max     18287.000000  \n",
            "std      1713.600303  \n",
            "<class 'pandas.core.frame.DataFrame'>\n",
            "Index: 304911 entries, 0 to 541908\n",
            "Data columns (total 7 columns):\n",
            " #   Column       Non-Null Count   Dtype         \n",
            "---  ------       --------------   -----         \n",
            " 0   InvoiceNo    304911 non-null  object        \n",
            " 1   StockCode    304911 non-null  object        \n",
            " 2   Quantity     304911 non-null  int64         \n",
            " 3   InvoiceDate  304911 non-null  datetime64[ns]\n",
            " 4   UnitPrice    304911 non-null  int64         \n",
            " 5   CustomerID   304911 non-null  object        \n",
            " 6   Country      304911 non-null  object        \n",
            "dtypes: datetime64[ns](1), int64(2), object(4)\n",
            "memory usage: 18.6+ MB\n",
            "None\n",
            "            Quantity                    InvoiceDate      UnitPrice\n",
            "count  304911.000000                         304911  304911.000000\n",
            "mean       10.255898  2011-07-08 14:45:08.094690048       3.317834\n",
            "min         1.000000            2010-12-01 08:26:00       1.000000\n",
            "25%         2.000000            2011-04-03 14:42:00       1.000000\n",
            "50%         4.000000            2011-07-28 11:18:00       2.000000\n",
            "75%        10.000000            2011-10-19 16:41:00       4.000000\n",
            "max     80995.000000            2011-12-09 12:50:00    8142.000000\n",
            "std       201.446073                            NaN      25.186431\n",
            "  InvoiceNo StockCode  Quantity         InvoiceDate  UnitPrice CustomerID  \\\n",
            "0    536365    85123A         6 2010-12-01 08:26:00          2    17850.0   \n",
            "1    536365     71053         6 2010-12-01 08:26:00          3    17850.0   \n",
            "2    536365    84406B         8 2010-12-01 08:26:00          2    17850.0   \n",
            "3    536365    84029G         6 2010-12-01 08:26:00          3    17850.0   \n",
            "4    536365    84029E         6 2010-12-01 08:26:00          3    17850.0   \n",
            "\n",
            "          Country  \n",
            "0  United Kingdom  \n",
            "1  United Kingdom  \n",
            "2  United Kingdom  \n",
            "3  United Kingdom  \n",
            "4  United Kingdom  \n"
          ]
        }
      ]
    },
    {
      "cell_type": "code",
      "source": [
        "df_trans=pd.DataFrame(df_raw, columns=['InvoiceNo', 'Quantity','InvoiceDate','UnitPrice','CustomerID'])\n",
        "df_trans.head()\n",
        "#Present date\n",
        "present_date=df_trans[\"InvoiceDate\"].max()\n",
        "#Purchase price\n",
        "df_trans['purchase_price']=df_trans['Quantity'] * df_trans['UnitPrice']"
      ],
      "metadata": {
        "id": "q97cpI2xuvtv"
      },
      "execution_count": 19,
      "outputs": []
    },
    {
      "cell_type": "code",
      "source": [
        "#Create RFM Table\n",
        "RFM_data=df_trans.groupby('CustomerID').agg({\n",
        "    'InvoiceDate': lambda x: (present_date - x.max()).days,\n",
        "    'InvoiceNo' : 'count',\n",
        "    'purchase_price':'sum'})\n",
        "RFM_data.rename(columns={'InvoiceDate': 'Recency', 'InvoiceNo': 'Frequency','purchase_price':'Monetary'}, inplace=True)\n",
        "#Calculate RFMCore\n",
        "RFM_data[\"Rscore\"]=pd.qcut(RFM_data['Recency'],q=5,labels=[5,4,3,2,1])\n",
        "RFM_data[\"Fscore\"]=pd.qcut(RFM_data['Frequency'],q=5,labels=[1,2,3,4,5])\n",
        "RFM_data[\"Mscore\"]=pd.qcut(RFM_data['Monetary'],q=5,labels=[1,2,3,4,5])\n",
        "RFM_data['RFMscore']=RFM_data[\"Rscore\"].astype(str)+RFM_data[\"Fscore\"].astype(str)+RFM_data[\"Mscore\"].astype(str)\n",
        "RFM_data = RFM_data.reset_index()\n",
        "print(RFM_data.head())\n"
      ],
      "metadata": {
        "id": "P92w6o6G3YY9",
        "colab": {
          "base_uri": "https://localhost:8080/"
        },
        "outputId": "487e2b67-dc3b-4574-baba-715c90121b5c"
      },
      "execution_count": 20,
      "outputs": [
        {
          "output_type": "stream",
          "name": "stdout",
          "text": [
            "  CustomerID  Recency  Frequency  Monetary Rscore Fscore Mscore RFMscore\n",
            "0    12346.0      325          1     74215      1      1      5      115\n",
            "1    12347.0        1        139      3012      5      5      5      555\n",
            "2    12348.0       74         11       944      2      2      4      224\n",
            "3    12349.0       18         64      1404      4      4      4      444\n",
            "4    12350.0      309         14       244      1      2      2      122\n"
          ]
        }
      ]
    },
    {
      "cell_type": "code",
      "source": [
        "from google.colab import files\n",
        "uploaded = files.upload()"
      ],
      "metadata": {
        "id": "KAUMy6DuvSlX",
        "colab": {
          "base_uri": "https://localhost:8080/",
          "height": 73
        },
        "outputId": "36b24290-db9a-4b92-a239-ca0f7293e9e6"
      },
      "execution_count": 21,
      "outputs": [
        {
          "output_type": "display_data",
          "data": {
            "text/plain": [
              "<IPython.core.display.HTML object>"
            ],
            "text/html": [
              "\n",
              "     <input type=\"file\" id=\"files-48e69fad-91e0-4ed3-8420-377319601f8b\" name=\"files[]\" multiple disabled\n",
              "        style=\"border:none\" />\n",
              "     <output id=\"result-48e69fad-91e0-4ed3-8420-377319601f8b\">\n",
              "      Upload widget is only available when the cell has been executed in the\n",
              "      current browser session. Please rerun this cell to enable.\n",
              "      </output>\n",
              "      <script>// Copyright 2017 Google LLC\n",
              "//\n",
              "// Licensed under the Apache License, Version 2.0 (the \"License\");\n",
              "// you may not use this file except in compliance with the License.\n",
              "// You may obtain a copy of the License at\n",
              "//\n",
              "//      http://www.apache.org/licenses/LICENSE-2.0\n",
              "//\n",
              "// Unless required by applicable law or agreed to in writing, software\n",
              "// distributed under the License is distributed on an \"AS IS\" BASIS,\n",
              "// WITHOUT WARRANTIES OR CONDITIONS OF ANY KIND, either express or implied.\n",
              "// See the License for the specific language governing permissions and\n",
              "// limitations under the License.\n",
              "\n",
              "/**\n",
              " * @fileoverview Helpers for google.colab Python module.\n",
              " */\n",
              "(function(scope) {\n",
              "function span(text, styleAttributes = {}) {\n",
              "  const element = document.createElement('span');\n",
              "  element.textContent = text;\n",
              "  for (const key of Object.keys(styleAttributes)) {\n",
              "    element.style[key] = styleAttributes[key];\n",
              "  }\n",
              "  return element;\n",
              "}\n",
              "\n",
              "// Max number of bytes which will be uploaded at a time.\n",
              "const MAX_PAYLOAD_SIZE = 100 * 1024;\n",
              "\n",
              "function _uploadFiles(inputId, outputId) {\n",
              "  const steps = uploadFilesStep(inputId, outputId);\n",
              "  const outputElement = document.getElementById(outputId);\n",
              "  // Cache steps on the outputElement to make it available for the next call\n",
              "  // to uploadFilesContinue from Python.\n",
              "  outputElement.steps = steps;\n",
              "\n",
              "  return _uploadFilesContinue(outputId);\n",
              "}\n",
              "\n",
              "// This is roughly an async generator (not supported in the browser yet),\n",
              "// where there are multiple asynchronous steps and the Python side is going\n",
              "// to poll for completion of each step.\n",
              "// This uses a Promise to block the python side on completion of each step,\n",
              "// then passes the result of the previous step as the input to the next step.\n",
              "function _uploadFilesContinue(outputId) {\n",
              "  const outputElement = document.getElementById(outputId);\n",
              "  const steps = outputElement.steps;\n",
              "\n",
              "  const next = steps.next(outputElement.lastPromiseValue);\n",
              "  return Promise.resolve(next.value.promise).then((value) => {\n",
              "    // Cache the last promise value to make it available to the next\n",
              "    // step of the generator.\n",
              "    outputElement.lastPromiseValue = value;\n",
              "    return next.value.response;\n",
              "  });\n",
              "}\n",
              "\n",
              "/**\n",
              " * Generator function which is called between each async step of the upload\n",
              " * process.\n",
              " * @param {string} inputId Element ID of the input file picker element.\n",
              " * @param {string} outputId Element ID of the output display.\n",
              " * @return {!Iterable<!Object>} Iterable of next steps.\n",
              " */\n",
              "function* uploadFilesStep(inputId, outputId) {\n",
              "  const inputElement = document.getElementById(inputId);\n",
              "  inputElement.disabled = false;\n",
              "\n",
              "  const outputElement = document.getElementById(outputId);\n",
              "  outputElement.innerHTML = '';\n",
              "\n",
              "  const pickedPromise = new Promise((resolve) => {\n",
              "    inputElement.addEventListener('change', (e) => {\n",
              "      resolve(e.target.files);\n",
              "    });\n",
              "  });\n",
              "\n",
              "  const cancel = document.createElement('button');\n",
              "  inputElement.parentElement.appendChild(cancel);\n",
              "  cancel.textContent = 'Cancel upload';\n",
              "  const cancelPromise = new Promise((resolve) => {\n",
              "    cancel.onclick = () => {\n",
              "      resolve(null);\n",
              "    };\n",
              "  });\n",
              "\n",
              "  // Wait for the user to pick the files.\n",
              "  const files = yield {\n",
              "    promise: Promise.race([pickedPromise, cancelPromise]),\n",
              "    response: {\n",
              "      action: 'starting',\n",
              "    }\n",
              "  };\n",
              "\n",
              "  cancel.remove();\n",
              "\n",
              "  // Disable the input element since further picks are not allowed.\n",
              "  inputElement.disabled = true;\n",
              "\n",
              "  if (!files) {\n",
              "    return {\n",
              "      response: {\n",
              "        action: 'complete',\n",
              "      }\n",
              "    };\n",
              "  }\n",
              "\n",
              "  for (const file of files) {\n",
              "    const li = document.createElement('li');\n",
              "    li.append(span(file.name, {fontWeight: 'bold'}));\n",
              "    li.append(span(\n",
              "        `(${file.type || 'n/a'}) - ${file.size} bytes, ` +\n",
              "        `last modified: ${\n",
              "            file.lastModifiedDate ? file.lastModifiedDate.toLocaleDateString() :\n",
              "                                    'n/a'} - `));\n",
              "    const percent = span('0% done');\n",
              "    li.appendChild(percent);\n",
              "\n",
              "    outputElement.appendChild(li);\n",
              "\n",
              "    const fileDataPromise = new Promise((resolve) => {\n",
              "      const reader = new FileReader();\n",
              "      reader.onload = (e) => {\n",
              "        resolve(e.target.result);\n",
              "      };\n",
              "      reader.readAsArrayBuffer(file);\n",
              "    });\n",
              "    // Wait for the data to be ready.\n",
              "    let fileData = yield {\n",
              "      promise: fileDataPromise,\n",
              "      response: {\n",
              "        action: 'continue',\n",
              "      }\n",
              "    };\n",
              "\n",
              "    // Use a chunked sending to avoid message size limits. See b/62115660.\n",
              "    let position = 0;\n",
              "    do {\n",
              "      const length = Math.min(fileData.byteLength - position, MAX_PAYLOAD_SIZE);\n",
              "      const chunk = new Uint8Array(fileData, position, length);\n",
              "      position += length;\n",
              "\n",
              "      const base64 = btoa(String.fromCharCode.apply(null, chunk));\n",
              "      yield {\n",
              "        response: {\n",
              "          action: 'append',\n",
              "          file: file.name,\n",
              "          data: base64,\n",
              "        },\n",
              "      };\n",
              "\n",
              "      let percentDone = fileData.byteLength === 0 ?\n",
              "          100 :\n",
              "          Math.round((position / fileData.byteLength) * 100);\n",
              "      percent.textContent = `${percentDone}% done`;\n",
              "\n",
              "    } while (position < fileData.byteLength);\n",
              "  }\n",
              "\n",
              "  // All done.\n",
              "  yield {\n",
              "    response: {\n",
              "      action: 'complete',\n",
              "    }\n",
              "  };\n",
              "}\n",
              "\n",
              "scope.google = scope.google || {};\n",
              "scope.google.colab = scope.google.colab || {};\n",
              "scope.google.colab._files = {\n",
              "  _uploadFiles,\n",
              "  _uploadFilesContinue,\n",
              "};\n",
              "})(self);\n",
              "</script> "
            ]
          },
          "metadata": {}
        },
        {
          "output_type": "stream",
          "name": "stdout",
          "text": [
            "Saving Segment.xlsx to Segment (1).xlsx\n"
          ]
        }
      ]
    },
    {
      "cell_type": "code",
      "source": [
        "df1=pd.read_excel('Segment.xlsx')\n",
        "df_seg = pd.DataFrame(df1)\n",
        "df_seg.rename(columns={'RFM Score': 'RFMscore'}, inplace=True)\n",
        "print(df_seg)"
      ],
      "metadata": {
        "colab": {
          "base_uri": "https://localhost:8080/"
        },
        "id": "MFdn7muMojIo",
        "outputId": "0ca216c7-697a-46be-adb4-8588206ac51f"
      },
      "execution_count": 22,
      "outputs": [
        {
          "output_type": "stream",
          "name": "stdout",
          "text": [
            "                  Segment                                           RFMscore\n",
            "0               Champions                  555, 554, 544, 545, 454, 455, 445\n",
            "1                   Loyal             543, 444, 435, 355, 354, 345, 344, 335\n",
            "2      Potential Loyalist  553, 551, 552, 541, 542, 533, 532, 531, 452, 4...\n",
            "3           New Customers                  512, 511, 422, 421, 412, 411, 311\n",
            "4               Promising  525, 524, 523, 522, 521, 515, 514, 513, 425,42...\n",
            "5          Need Attention             535, 534, 443, 434, 343, 334, 325, 324\n",
            "6          About To Sleep             331, 321, 312, 221, 213, 231, 241, 251\n",
            "7                 At Risk  255, 254, 245, 244, 253, 252, 243, 242, 235, 2...\n",
            "8        Cannot Lose Them               155, 154, 144, 214,215,115, 114, 113\n",
            "9   Hibernating customers  332, 322, 233, 232, 223, 222, 132, 123, 122, 2...\n",
            "10         Lost customers                         111, 112, 121, 131,141,151\n"
          ]
        }
      ]
    },
    {
      "cell_type": "code",
      "source": [
        "# Convert 'RFMscore' to string type\n",
        "df_seg['RFMscore'] = df_seg['RFMscore'].astype(str)\n",
        "\n",
        "# Split the string by commas to create a list\n",
        "df_seg['RFMscore'] = df_seg['RFMscore'].str.split(',')\n",
        "\n",
        "# Strip leading and trailing spaces from each item in the list\n",
        "df_seg['RFMscore'] = df_seg['RFMscore'].apply(lambda x: [i.strip() for i in x])\n",
        "\n",
        "# Explode the list so each item in the list becomes a separate row\n",
        "df_seg = df_seg.explode('RFMscore').reset_index(drop=True)\n",
        "\n",
        "# Print the DataFrame\n",
        "print(df_seg)"
      ],
      "metadata": {
        "id": "yDbrSD4zxxv1",
        "colab": {
          "base_uri": "https://localhost:8080/"
        },
        "outputId": "1453a224-c4e3-4125-9959-52d523f6ae0c"
      },
      "execution_count": 23,
      "outputs": [
        {
          "output_type": "stream",
          "name": "stdout",
          "text": [
            "            Segment RFMscore\n",
            "0         Champions      555\n",
            "1         Champions      554\n",
            "2         Champions      544\n",
            "3         Champions      545\n",
            "4         Champions      454\n",
            "..              ...      ...\n",
            "120  Lost customers      112\n",
            "121  Lost customers      121\n",
            "122  Lost customers      131\n",
            "123  Lost customers      141\n",
            "124  Lost customers      151\n",
            "\n",
            "[125 rows x 2 columns]\n"
          ]
        }
      ]
    },
    {
      "cell_type": "code",
      "source": [
        "RFM_table=pd.merge_ordered(RFM_data,df_seg,on='RFMscore',how='left')\n",
        "print(RFM_table)"
      ],
      "metadata": {
        "colab": {
          "base_uri": "https://localhost:8080/"
        },
        "id": "peb6e0wQuoVM",
        "outputId": "f8a5a040-6ab0-4099-a59d-cd108220b535"
      },
      "execution_count": 24,
      "outputs": [
        {
          "output_type": "stream",
          "name": "stdout",
          "text": [
            "     CustomerID  Recency  Frequency  Monetary Rscore Fscore Mscore RFMscore  \\\n",
            "0       12353.0      203          4        74      1      1      1      111   \n",
            "1       12361.0      286         10       117      1      1      1      111   \n",
            "2       12401.0      302          5        76      1      1      1      111   \n",
            "3       12441.0      366          8       110      1      1      1      111   \n",
            "4       12509.0      283          4       130      1      1      1      111   \n",
            "...         ...      ...        ...       ...    ...    ...    ...      ...   \n",
            "4299    18223.0        4        245      4922      5      5      5      555   \n",
            "4300    18225.0        2        227      4020      5      5      5      555   \n",
            "4301    18229.0       11        161      5840      5      5      5      555   \n",
            "4302    18245.0        6        110      1577      5      5      5      555   \n",
            "4303    18272.0        2        133      2090      5      5      5      555   \n",
            "\n",
            "             Segment  \n",
            "0     Lost customers  \n",
            "1     Lost customers  \n",
            "2     Lost customers  \n",
            "3     Lost customers  \n",
            "4     Lost customers  \n",
            "...              ...  \n",
            "4299       Champions  \n",
            "4300       Champions  \n",
            "4301       Champions  \n",
            "4302       Champions  \n",
            "4303       Champions  \n",
            "\n",
            "[4304 rows x 9 columns]\n"
          ]
        }
      ]
    },
    {
      "cell_type": "code",
      "source": [
        "  # Distribution of Recency\n",
        "fig,ax = plt.subplots(figsize=(12,3))\n",
        "sns.histplot(RFM_table['Recency'])\n",
        "ax.set_title('Distribution of Recency')\n",
        "for container in ax.containers:\n",
        "    ax.bar_label(container, label_type='edge', padding=2)\n",
        "plt.show()"
      ],
      "metadata": {
        "colab": {
          "base_uri": "https://localhost:8080/",
          "height": 333
        },
        "id": "AyELZhAr6GN0",
        "outputId": "1a9f38f3-a748-41a1-9a58-4881d4867858"
      },
      "execution_count": 49,
      "outputs": [
        {
          "output_type": "display_data",
          "data": {
            "text/plain": [
              "<Figure size 1200x300 with 1 Axes>"
            ],
            "image/png": "[encoded data removed]"
          },
          "metadata": {}
        }
      ]
    },
    {
      "cell_type": "code",
      "source": [
        "#Distribution of Frequency\n",
        "binsF = [0, 2, 5, 20, np.inf]\n",
        "labelsF = ['1-2', '2-5', '5-20', '20+']\n",
        "RFM_table['FrequencyGroup'] = pd.cut(RFM_table['Frequency'], bins=binsF, labels=labelsF)\n",
        "fig, ax = plt.subplots(figsize=(8, 3))\n",
        "sns.countplot(x=RFM_table['FrequencyGroup'], ax=ax)\n",
        "ax.set_title('Distribution of Frequency')\n",
        "for container in ax.containers:\n",
        "    ax.bar_label(container, label_type='edge', padding=2)\n",
        "plt.show()"
      ],
      "metadata": {
        "colab": {
          "base_uri": "https://localhost:8080/",
          "height": 333
        },
        "id": "JEjoyi2q6nX1",
        "outputId": "305526ad-ca4d-4cff-a303-cb9cba4f15b6"
      },
      "execution_count": 50,
      "outputs": [
        {
          "output_type": "display_data",
          "data": {
            "text/plain": [
              "<Figure size 800x300 with 1 Axes>"
            ],
            "image/png": "[encoded data removed]"
          },
          "metadata": {}
        }
      ]
    },
    {
      "cell_type": "code",
      "source": [
        "#Distribution of Monetary\n",
        "binsF = [0,1000,5000,10000, np.inf]\n",
        "labelsF = ['0-1k', '1k-5k', '5k-10k', '10k+']\n",
        "RFM_table['MonetaryGroup'] = pd.cut(RFM_table['Monetary'], bins=binsF, labels=labelsF)\n",
        "fig, ax = plt.subplots(figsize=(8, 3))\n",
        "sns.countplot(x=RFM_table['MonetaryGroup'], ax=ax)\n",
        "ax.set_title('Distribution of Monetary')\n",
        "for container in ax.containers:\n",
        "    ax.bar_label(container, label_type='edge', padding=2)\n",
        "plt.show()"
      ],
      "metadata": {
        "colab": {
          "base_uri": "https://localhost:8080/",
          "height": 333
        },
        "id": "PkRvplgp8XOp",
        "outputId": "102a4555-a48c-4eea-ff9e-d039dfe89206"
      },
      "execution_count": 51,
      "outputs": [
        {
          "output_type": "display_data",
          "data": {
            "text/plain": [
              "<Figure size 800x300 with 1 Axes>"
            ],
            "image/png": "[encoded data removed]"
          },
          "metadata": {}
        }
      ]
    },
    {
      "cell_type": "code",
      "source": [
        "pip install squarify"
      ],
      "metadata": {
        "colab": {
          "base_uri": "https://localhost:8080/"
        },
        "id": "hgI1GvOjDHZZ",
        "outputId": "449da5b6-df63-421b-c229-4e46220601fc"
      },
      "execution_count": 52,
      "outputs": [
        {
          "output_type": "stream",
          "name": "stdout",
          "text": [
            "Requirement already satisfied: squarify in /usr/local/lib/python3.10/dist-packages (0.4.4)\n"
          ]
        }
      ]
    },
    {
      "cell_type": "code",
      "source": [
        "grouped = RFM_table.groupby('Segment').agg(Cust_Count_seg=('CustomerID', 'count')).reset_index()\n",
        "grouped['count_share'] = (grouped['Cust_Count_seg'] /RFM_table['CustomerID'].count())\n",
        "print(grouped)"
      ],
      "metadata": {
        "colab": {
          "base_uri": "https://localhost:8080/"
        },
        "id": "_cjmz5BbH9hF",
        "outputId": "26392612-dd90-4fe0-c69c-2f3ce142c738"
      },
      "execution_count": 27,
      "outputs": [
        {
          "output_type": "stream",
          "name": "stdout",
          "text": [
            "                  Segment  Cust_Count_seg  count_share\n",
            "0          About To Sleep             184     0.042751\n",
            "1                 At Risk             440     0.102230\n",
            "2        Cannot Lose Them              97     0.022537\n",
            "3               Champions             775     0.180065\n",
            "4   Hibernating customers             802     0.186338\n",
            "5          Lost customers             408     0.094796\n",
            "6                   Loyal             413     0.095957\n",
            "7          Need Attention             235     0.054600\n",
            "8           New Customers             321     0.074582\n",
            "9      Potential Loyalist             496     0.115242\n",
            "10              Promising             133     0.030901\n"
          ]
        }
      ]
    },
    {
      "cell_type": "code",
      "source": [
        "import squarify\n",
        "import numpy as np\n",
        "colors=['#FF0000',\"#00FFFF\",\"#FFFF00\",\"#A52A2A\",\"#800080\",\"#00FF00\",\"#808000\",\"#FFC0CB\",\"#FFA500\",\"#FF00FF\",\"#736F6E\"]\n",
        "fig, ax = plt.subplots(1,figsize=(15,8))\n",
        "squarify.plot(sizes=grouped['Cust_Count_seg'],\n",
        "              label=grouped['Segment'],\n",
        "              value=[f'{x*100:.2f}%' for x in grouped['count_share']],\n",
        "              alpha=.8,\n",
        "              color=colors,\n",
        "              bar_kwargs=dict(linewidth=1.5,edgecolor=\"white\"))\n",
        "plt.title('RFM Segments of Customer Count',fontsize=16)\n",
        "plt.axis('off')\n",
        "plt.show()"
      ],
      "metadata": {
        "colab": {
          "base_uri": "https://localhost:8080/",
          "height": 663
        },
        "id": "jZy5pCdl_U-j",
        "outputId": "946ea260-746b-4ca0-b590-3d5cca4ec3a6"
      },
      "execution_count": 28,
      "outputs": [
        {
          "output_type": "display_data",
          "data": {
            "text/plain": [
              "<Figure size 1500x800 with 1 Axes>"
            ],
            "image/png": "[encoded data removed]"
          },
          "metadata": {}
        }
      ]
    },
    {
      "cell_type": "markdown",
      "source": [
        "Customer Segment Analysis:\n",
        "\n",
        "The Champion and Hibernating customer segments account for the highest proportion in the company.\n",
        "1. Champion Customers (18.01%):\n",
        "\n",
        "Insights:\n",
        "\n",
        "The company has a notable group of loyal customers, contributing to a stable and sustainable revenue stream—a strong indicator of business performance.\n",
        "\n",
        "Risks:\n",
        "\n",
        "Over-reliance on this limited customer group poses significant risks. Any decline in this segment, due to market changes, competition, or other factors, could severely impact the company's revenue.\n",
        "\n",
        "2. Hibernating Customers (18.63%):\n",
        "\n",
        "Insights:\n",
        "\n",
        "Hibernating customers make up the largest segment, suggesting that the company has lost touch with a substantial portion of previous buyers. This is a warning sign regarding the company’s ability to maintain long-term customer relationships.\n",
        "\n",
        "Opportunities:\n",
        "\n",
        "If the company can reconnect with this group, it has the potential to boost revenue and maximize long-term customer value.\n",
        "\n",
        "Challenges:\n",
        "\n",
        "This situation might highlight inefficiencies in the company’s strategies for customer retention and long-term engagement.\n",
        "Overview:\n",
        "\n",
        "If both the Champion and Hibernating customer groups represent a high proportion, it suggests that the business is focused on its current customer base but has yet to fully tap into the potential of dormant customers. Maintaining Champion customers while reactivating Hibernating customers can help the business achieve both stability and sustainable growth.\n",
        "\n",
        "However, this scenario may also highlight an imbalance in customer acquisition efforts. If the company focuses exclusively on its existing customer segments, it risks neglecting opportunities to attract new customers, which are essential for long-term expansion and diversification.\n",
        "\n",
        "Recommendations:\n",
        "\n",
        "For Champions: Diversify the customer base to reduce dependency on this group while continuing to nurture loyalty.\n",
        "\n",
        "For Hibernating Customers: Launch targeted reactivation campaigns and evaluate current retention strategies to identify gaps and improve customer engagement efforts."
      ],
      "metadata": {
        "id": "LVYVLxoD2ZFa"
      }
    }
  ]
}